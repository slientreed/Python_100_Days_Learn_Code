{
 "cells": [
  {
   "cell_type": "markdown",
   "metadata": {},
   "source": [
    "# 1. 函数\n",
    "* 重构：在不影响代码执行结果的前提下对代码的结构进行调整\n",
    "* 函数参数：自变量\n",
    "* 函数返回值：因变量\n",
    "* 函数参数可以设置默认值，python不支持重载\n",
    "* python函数参数可以使用**可变参数**\n",
    "\n",
    "# 2. 模块\n",
    "* 每个.py文件表示一个模块，在不同模块中有同名函数， 可通过导入不同模块区分不同函数调用。\n",
    "* 导入模块中要可执行代码时，不希望执行这些，则可以放入\\__main\\__函数中，这样只有直接运行该模块才会执行\\__main\\__内容，因为只有直接执行的模块才是\\__main\\__.\n",
    "* \\__name\\__是Python中一个隐含的变量它代表了模块的名字，只有**被Python解释器直接执行**的**模块**的名字才是\\__main\\__\n",
    "\n",
    "# 3. 变量作用域\n",
    "* Python查找一个变量时会按照“局部作用域”、“嵌套作用域”、“全局作用域”和“内置作用域”的顺序进行搜索，前三者我们在上面的代码中已经看到了，所谓的“内置作用域”就是Python内置的那些隐含标识符min、len等都属于内置作用域）\n",
    "* 少用全局变量，写代码主要使用标准格式：定义函数，在__name__ == __main__条件下调用函数。"
   ]
  },
  {
   "cell_type": "code",
   "execution_count": 2,
   "metadata": {},
   "outputs": [
    {
     "name": "stdout",
     "output_type": "stream",
     "text": [
      "6\n",
      "11\n"
     ]
    }
   ],
   "source": [
    "# python可变参数\n",
    "# 即在调用add函数时可以传入0个或多个参数\n",
    "\n",
    "def add(*args):\n",
    "    total = 0\n",
    "    for val in args:\n",
    "        total += val\n",
    "    return total\n",
    "\n",
    "print(add(1,2,3))\n",
    "print(add(5,6))"
   ]
  },
  {
   "cell_type": "code",
   "execution_count": 12,
   "metadata": {},
   "outputs": [
    {
     "name": "stdout",
     "output_type": "stream",
     "text": [
      "请输入要判断的数：1110111\n",
      "1110111不是回文素数\n"
     ]
    }
   ],
   "source": [
    "from math import sqrt\n",
    "# 判断一个数字是不是回文数:把数字各位倒过来，看与原数是否相等\n",
    "def is_palindrome(num):\n",
    "    tem = num\n",
    "    total = 0\n",
    "    while(tem > 0):\n",
    "        total = total * 10 + tem % 10\n",
    "        tem = tem // 10\n",
    "    return num == total\n",
    "\n",
    "# 判断一个数是不是素数\n",
    "def is_prime(num):\n",
    "    if num == 1:\n",
    "        return False\n",
    "    \n",
    "    for i in range(2,int(sqrt(num))):\n",
    "        if(num % i == 0):\n",
    "            return False\n",
    "    return True\n",
    "\n",
    "\n",
    "# 编写函数，可以组合复杂功能\n",
    "# 判断输入的数是不是回文素数\n",
    "if __name__ == '__main__':\n",
    "    num = int(input('请输入要判断的数：'))\n",
    "    if(is_palindrome(num) and is_prime(num)):\n",
    "        print('%d是回文素数' % num)\n",
    "    else:\n",
    "        print('%d不是回文素数' % num)\n",
    "    "
   ]
  },
  {
   "cell_type": "code",
   "execution_count": 13,
   "metadata": {
    "collapsed": true
   },
   "outputs": [],
   "source": [
    "# 代码标准写法\n",
    "\n",
    "def main():\n",
    "    # Todo: Add your code here\n",
    "    pass\n",
    "\n",
    "\n",
    "if __name__ == '__main__':\n",
    "    main()"
   ]
  },
  {
   "cell_type": "code",
   "execution_count": null,
   "metadata": {
    "collapsed": true
   },
   "outputs": [],
   "source": []
  }
 ],
 "metadata": {
  "kernelspec": {
   "display_name": "Python 3",
   "language": "python",
   "name": "python3"
  },
  "language_info": {
   "codemirror_mode": {
    "name": "ipython",
    "version": 3
   },
   "file_extension": ".py",
   "mimetype": "text/x-python",
   "name": "python",
   "nbconvert_exporter": "python",
   "pygments_lexer": "ipython3",
   "version": "3.6.3"
  }
 },
 "nbformat": 4,
 "nbformat_minor": 2
}
