{
 "cells": [
  {
   "cell_type": "markdown",
   "metadata": {},
   "source": [
    "#### 1. 基于tkinter模块的GUI\n",
    "* 导入tkinter模块\n",
    "* 创建一个顶层窗口对象，并用来继承整个GUI应用\n",
    "* 在顶层窗口对象添加GUI组件\n",
    "* 通过代码将GUI组件的功能组织起来\n",
    "* 进入主事件循环(mainloop())\n",
    "\n",
    "#### 2. 使用Pygame进行游戏开发（如果需要再看）\n",
    "* Pygame是一个开源的Python模块，专门用于多媒体应用（如电子游戏）的开发，其中包含对图像、声音、视频、事件、碰撞等的支持\n"
   ]
  },
  {
   "cell_type": "code",
   "execution_count": 1,
   "metadata": {},
   "outputs": [],
   "source": [
    "# 1.演示使用thinter做个简单的GUI应用。\n",
    "\n",
    "import tkinter\n",
    "import tkinter.messagebox\n",
    "\n",
    "def main():\n",
    "\tflag = True\n",
    "\n",
    "\t# 修改标签文字\n",
    "\tdef change_label_text():\n",
    "\t\tnonlocal flag\n",
    "\t\tflag = not flag\n",
    "\t\tcolor, msg = ('red','hello,word') if flag else ('blue','Goodbye,word!')\n",
    "\n",
    "\t\tlabel.config(text=msg,fg=color)\n",
    "\n",
    "\t# 确认退出\n",
    "\tdef confirm_to_quit():\n",
    "\t\tif tkinter.messagebox.askokcancel('提示','确定要退出吗？'):\n",
    "\t\t\ttop.quit()\n",
    "\n",
    "\n",
    "\t# 创建顶层窗口\n",
    "\ttop = tkinter.Tk()\n",
    "\t# 设置窗口大小\n",
    "\ttop.geometry('240x160')\n",
    "\t# 设置窗口标题\n",
    "\ttop.title('小游戏')\n",
    "\t# 创建标签对象，并添加到顶层窗口\n",
    "\tlabel = tkinter.Label(top,text='hello,word!',font='Arial -32',fg='red')\n",
    "\tlabel.pack(expand=1)\n",
    "\t# 创建一个按钮容器\n",
    "\tpanel = tkinter.Frame(top)\n",
    "\t# 创建按钮对象，制定添加到哪个容器中，通过command参数绑定事件回调函数\n",
    "\tbutton1 = tkinter.Button(panel,text='修改',command=change_label_text)\n",
    "\tbutton1.pack(side='left')\n",
    "\tbutton2 = tkinter.Button(panel,text='退出',command=confirm_to_quit)\n",
    "\tbutton2.pack(side='right')\n",
    "\tpanel.pack(side='bottom')\n",
    "\n",
    "\t# 开启主事件循环\n",
    "\ttkinter.mainloop()\n",
    "\n",
    "if __name__ == '__main__':\n",
    "\tmain()\n",
    "\n"
   ]
  }
 ],
 "metadata": {
  "kernelspec": {
   "display_name": "Python 3",
   "language": "python",
   "name": "python3"
  },
  "language_info": {
   "codemirror_mode": {
    "name": "ipython",
    "version": 3
   },
   "file_extension": ".py",
   "mimetype": "text/x-python",
   "name": "python",
   "nbconvert_exporter": "python",
   "pygments_lexer": "ipython3",
   "version": "3.6.3"
  }
 },
 "nbformat": 4,
 "nbformat_minor": 2
}
