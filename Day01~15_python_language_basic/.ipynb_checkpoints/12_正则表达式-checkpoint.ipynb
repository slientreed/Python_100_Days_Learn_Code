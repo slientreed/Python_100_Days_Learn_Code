{
 "cells": [
  {
   "cell_type": "markdown",
   "metadata": {},
   "source": [
    "#### 1. [正则表达式](https://github.com/jackfrued/Python-100-Days/blob/master/Day01-15/12.%E5%AD%97%E7%AC%A6%E4%B8%B2%E5%92%8C%E6%AD%A3%E5%88%99%E8%A1%A8%E8%BE%BE%E5%BC%8F.md)\n",
    "1. [30分钟参考入门正则](https://deerchao.net/tutorials/regex/regex.htm)\n",
    "2. python对正则表达式使用re模块支持相关操作，re模块的核心操作。compile,match,search,split,sub,fullmatch,findall,finditer,purge\n",
    "\n",
    "函数 | 说明 \n",
    ":---: | :---: \n",
    "compile(pattern, flags=0) | 编译正则表达式返回正则表达式对象 \n",
    "match(pattern, string, flags=0) | 用正则表达式匹配字符串 成功返回匹配对象 否则返回None\n",
    "... | ...\n",
    "\n",
    "\n"
   ]
  },
  {
   "cell_type": "code",
   "execution_count": null,
   "metadata": {
    "collapsed": true
   },
   "outputs": [],
   "source": [
    "# 1.示例，验证输入用户名以及QQ号是否有效.\n",
    "# 用户名：用户名必须由字母、数字或下划线构成且长度在1~20个字符之间\n",
    "# qq号：5~12的数字且首位不能为0\n",
    "\n",
    "import re\n",
    "\n",
    "def main():\n",
    "    username = input('请输入用户名:')\n",
    "    qq = input('请输入qq号:')\n",
    "    \n",
    "    # match(pattern,string),第一个参数是正则对象，第二个参数是待匹配字符串\n",
    "    res1 = re.match(r'^[0-9a-zA-Z_]{1,20}$', username)\n",
    "    if not res1:\n",
    "        print('请输入有效的用户名！')\n",
    "    res2 = re.match(r'[1-9]\\d{4,11}$', qq)\n",
    "    if not res2:\n",
    "        print('请输入有效的qq号！')\n",
    "        \n",
    "    if res1 and res2:\n",
    "        print('%s你好，请进入' % username)\n",
    "        \n",
    "if __name__ == '__main__':\n",
    "    main()"
   ]
  },
  {
   "cell_type": "code",
   "execution_count": null,
   "metadata": {
    "collapsed": true
   },
   "outputs": [],
   "source": [
    "# 示例2. 用指定字符替换字符串中内容\n",
    "\n",
    "import re\n",
    "def main():\n",
    "    sentence = '你丫是傻叉吗? 我操你大爷的. Fuck you.'\n",
    "    res = re.sub('[操肏艹]|fuck|shit|傻[比屄逼叉缺吊屌]|煞笔','*',sentence,flags=re.IGNORECASE)\n",
    "    print(sentence)\n",
    "    print(res)\n",
    "    \n",
    "if __name__ == '__main__':\n",
    "    main()"
   ]
  },
  {
   "cell_type": "code",
   "execution_count": null,
   "metadata": {
    "collapsed": true
   },
   "outputs": [],
   "source": []
  }
 ],
 "metadata": {
  "kernelspec": {
   "display_name": "Python 3",
   "language": "python",
   "name": "python3"
  },
  "language_info": {
   "codemirror_mode": {
    "name": "ipython",
    "version": 3
   },
   "file_extension": ".py",
   "mimetype": "text/x-python",
   "name": "python",
   "nbconvert_exporter": "python",
   "pygments_lexer": "ipython3",
   "version": "3.6.3"
  }
 },
 "nbformat": 4,
 "nbformat_minor": 2
}
