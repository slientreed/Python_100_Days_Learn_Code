{
 "cells": [
  {
   "cell_type": "markdown",
   "metadata": {},
   "source": [
    "[reference](https://github.com/jackfrued/Python-100-Days/blob/master/Day01-15/02.%E8%AF%AD%E8%A8%80%E5%85%83%E7%B4%A0.md)\n",
    "## 变量\n",
    "#### 1. 变量命名规则：\n",
    "#### 2. 内置函数：\n",
    "* int(): 数值/字符串 -> 整数\n",
    "* float(): 字符串 -> 浮点数\n",
    "* str(): 指定对象 -> 字符串\n",
    "* chr(): 整数 -> 编码对应的字符\n",
    "* ord() : 字符串 -> 对应的编码（整数）\n",
    "\n",
    "#### 3. 运算符\n"
   ]
  },
  {
   "cell_type": "code",
   "execution_count": 3,
   "metadata": {},
   "outputs": [
    {
     "name": "stdout",
     "output_type": "stream",
     "text": [
      "请输入华氏温度：100\n",
      "100.0华氏度 = 37.8摄氏度\n"
     ]
    }
   ],
   "source": [
    "# 1.华氏温度转摄氏\n",
    "\n",
    "f = float(input('请输入华氏温度：'))\n",
    "c = (f - 32) / 1.8\n",
    "print('%.1f华氏度 = %.1f摄氏度' % (f,c))"
   ]
  },
  {
   "cell_type": "code",
   "execution_count": 5,
   "metadata": {},
   "outputs": [
    {
     "name": "stdout",
     "output_type": "stream",
     "text": [
      "请输入半径:4\n",
      "周长：25.13\n",
      "面积：50.27\n"
     ]
    }
   ],
   "source": [
    "# 2. 输入圆的半径，求周长和面积\n",
    "\n",
    "import math\n",
    "\n",
    "radius = float(input('请输入半径:'))\n",
    "perimeter = 2 * math.pi * radius\n",
    "area = math.pi * radius * radius\n",
    "print('周长：%.2f' % perimeter)\n",
    "print('面积：%.2f' % area)"
   ]
  },
  {
   "cell_type": "code",
   "execution_count": 10,
   "metadata": {},
   "outputs": [
    {
     "name": "stdout",
     "output_type": "stream",
     "text": [
      "输入年份：2100\n",
      "2100不是闰年\n"
     ]
    }
   ],
   "source": [
    "# 3. 输入年份判断是不是闰年\n",
    "\n",
    "year = int(input('输入年份：'))\n",
    "is_leap = (year % 4 == 0 and year % 100 != 0 or year % 400 == 0)\n",
    "#print(is_leap)\n",
    "if(is_leap):\n",
    "    print('%d是闰年' %year)\n",
    "else:\n",
    "    print('%d不是闰年' %year)"
   ]
  },
  {
   "cell_type": "code",
   "execution_count": null,
   "metadata": {
    "collapsed": true
   },
   "outputs": [],
   "source": []
  }
 ],
 "metadata": {
  "kernelspec": {
   "display_name": "Python 3",
   "language": "python",
   "name": "python3"
  },
  "language_info": {
   "codemirror_mode": {
    "name": "ipython",
    "version": 3
   },
   "file_extension": ".py",
   "mimetype": "text/x-python",
   "name": "python",
   "nbconvert_exporter": "python",
   "pygments_lexer": "ipython3",
   "version": "3.6.3"
  }
 },
 "nbformat": 4,
 "nbformat_minor": 2
}
