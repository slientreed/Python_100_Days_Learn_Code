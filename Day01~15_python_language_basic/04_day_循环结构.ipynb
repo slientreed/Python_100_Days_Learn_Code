{
 "cells": [
  {
   "cell_type": "markdown",
   "metadata": {},
   "source": [
    "# [reference](https://github.com/jackfrued/Python-100-Days/blob/master/Day01-15/04.%E5%BE%AA%E7%8E%AF%E7%BB%93%E6%9E%84.md)\n",
    "\n",
    "# 循环分类\n",
    "### 1. for-in : 知道循环次数，对容器迭代\n",
    "### 2. while ：不知道循环次数，可通过产生bool值的表达式控制循环\n",
    "\n",
    "\n",
    "(date:2019-06-13)\n"
   ]
  },
  {
   "cell_type": "code",
   "execution_count": 7,
   "metadata": {},
   "outputs": [
    {
     "name": "stdout",
     "output_type": "stream",
     "text": [
      "请输入一个正整数：5\n",
      "5是素数\n"
     ]
    }
   ],
   "source": [
    "# 1. 输入一个数，判断是不是素数\n",
    "\n",
    "import math\n",
    "\n",
    "num = int(input('请输入一个正整数：'))\n",
    "num_sqrt = int(math.sqrt(num))\n",
    "is_prim = True\n",
    "for i in range(2,num_sqrt+1):\n",
    "    #print(i)\n",
    "    if num % i == 0:\n",
    "        is_prim = False\n",
    "        break\n",
    "        \n",
    "if(is_prim):\n",
    "    print('%d是素数' % num)\n",
    "else:\n",
    "    print('%d不是素数' % num)"
   ]
  },
  {
   "cell_type": "code",
   "execution_count": 17,
   "metadata": {},
   "outputs": [
    {
     "name": "stdout",
     "output_type": "stream",
     "text": [
      "请输入正整数：6\n",
      "请输入另一个数：9\n",
      "6和9的最大公约数是：3\n",
      "6和9的最小公倍数是：18\n"
     ]
    }
   ],
   "source": [
    "# 2. 输入两个正整数，求最小公倍数和最大公约数\n",
    "\n",
    "x = int(input('请输入正整数：'))\n",
    "y = int(input('请输入另一个数：'))\n",
    "if (x > y):\n",
    "    x,y = y,x\n",
    "\n",
    "for i in range(x,0,-1):  # x倒序，两个数依次相除找和x最相近的数\n",
    "    if(x % i == 0 and y % i == 0):\n",
    "        print('%d和%d的最大公约数是：%d' % (x,y,i))\n",
    "        print('%d和%d的最小公倍数是：%d' % (x,y,x*y/i))\n",
    "        break\n",
    "    "
   ]
  },
  {
   "cell_type": "code",
   "execution_count": 32,
   "metadata": {},
   "outputs": [
    {
     "name": "stdout",
     "output_type": "stream",
     "text": [
      "输入行数：7\n",
      "*\n",
      "**\n",
      "***\n",
      "****\n",
      "*****\n",
      "******\n",
      "*******\n",
      "      *\n",
      "     **\n",
      "    ***\n",
      "   ****\n",
      "  *****\n",
      " ******\n",
      "*******\n",
      "      *\n",
      "     ***\n",
      "    *****\n",
      "   *******\n",
      "  *********\n",
      " ***********\n",
      "*************\n"
     ]
    }
   ],
   "source": [
    "# 3. 打印三角形图案\n",
    "\n",
    "row = int(input('输入行数：'))\n",
    "for i in range(row):\n",
    "    for j in range(i+1):\n",
    "        print('*',end='')\n",
    "    print()  # 换行\n",
    "    \n",
    "    \n",
    "for i in range(row):\n",
    "    for j in range(row):\n",
    "        if(j < row-1-i):\n",
    "            print(' ',end='')\n",
    "        else:\n",
    "            print('*',end='')\n",
    "    print()\n",
    "    \n",
    "for i in range(row):\n",
    "    for _ in range(row-i-1): # 第一行输出1个*，最后一行全输出*，以最后一个为中心\n",
    "        print(' ',end='')\n",
    "    for _ in range(i * 2 + 1):\n",
    "        print('*',end='')\n",
    "    print()"
   ]
  },
  {
   "cell_type": "code",
   "execution_count": null,
   "metadata": {
    "collapsed": true
   },
   "outputs": [],
   "source": []
  }
 ],
 "metadata": {
  "kernelspec": {
   "display_name": "Python 3",
   "language": "python",
   "name": "python3"
  },
  "language_info": {
   "codemirror_mode": {
    "name": "ipython",
    "version": 3
   },
   "file_extension": ".py",
   "mimetype": "text/x-python",
   "name": "python",
   "nbconvert_exporter": "python",
   "pygments_lexer": "ipython3",
   "version": "3.6.3"
  }
 },
 "nbformat": 4,
 "nbformat_minor": 2
}
