{
 "cells": [
  {
   "cell_type": "code",
   "execution_count": 22,
   "metadata": {},
   "outputs": [
    {
     "name": "stdout",
     "output_type": "stream",
     "text": [
      "水仙花数是： [153, 370, 371, 407]\n"
     ]
    }
   ],
   "source": [
    "# 1. 水仙花数：水仙花数是指一个 3 位数，它的每个位上的数字的 3次幂之和等于它本身\n",
    "\n",
    "nums = []\n",
    "'''\n",
    "for i in range(1,10):\n",
    "    for j in range(1,10):\n",
    "        for k in range(1,10):\n",
    "            if((i*100 + j*10 + k) == (i**3 + j**3 + k**3)):\n",
    "               nums.append(i*100 + j*10 + k)\n",
    "\n",
    "print(nums)               \n",
    "'''\n",
    "for i in range(100,1000):\n",
    "    a = int(i / 100)         # 百位\n",
    "    b = int(i / 10 % 10)    # 十位\n",
    "    c = int(i % 10)        # 个位\n",
    "    if(i == a**3 + b**3 + c**3):\n",
    "        nums.append(i)\n",
    "print('水仙花数是：',nums)\n"
   ]
  },
  {
   "cell_type": "code",
   "execution_count": 29,
   "metadata": {},
   "outputs": [
    {
     "name": "stdout",
     "output_type": "stream",
     "text": [
      "输入要找的范围：1000\n",
      "10001000以内的完美数是：[6, 28, 496]\n"
     ]
    }
   ],
   "source": [
    "# 2. 寻找完美数：一个数的因子和等于该数目\n",
    "\n",
    "n = int(input('输入要找的范围：'))\n",
    "nums = []\n",
    "for i in range(1,n):   # 1000以内的完美数\n",
    "    sum = 0\n",
    "    for k in range(1,i):\n",
    "        if(i % k == 0):\n",
    "            sum += k\n",
    "    if(sum == i):\n",
    "        nums.append(i)\n",
    "        \n",
    "print('%d1000以内的完美数是：%s' % (n,nums))"
   ]
  },
  {
   "cell_type": "code",
   "execution_count": 36,
   "metadata": {},
   "outputs": [
    {
     "name": "stdout",
     "output_type": "stream",
     "text": [
      "买公鸡0,母鸡25,小鸡75\n",
      "买公鸡4,母鸡18,小鸡78\n",
      "买公鸡8,母鸡11,小鸡81\n",
      "买公鸡12,母鸡4,小鸡84\n"
     ]
    }
   ],
   "source": [
    "# 3. 百钱百鸡问题\n",
    "\n",
    "for x in range(100):\n",
    "    for y in range(100):\n",
    "        z = (100 - 5*x - 3*y) * 3\n",
    "        if(x + y + z == 100):\n",
    "            print('买公鸡%d,母鸡%d,小鸡%d' % (x,y,z))"
   ]
  },
  {
   "cell_type": "code",
   "execution_count": 43,
   "metadata": {},
   "outputs": [
    {
     "name": "stdout",
     "output_type": "stream",
     "text": [
      "要输出多少位数列：100\n",
      "[1, 1, 2, 3, 5, 8, 13, 21, 34, 55, 89, 144, 233, 377, 610, 987, 1597, 2584, 4181, 6765, 10946, 17711, 28657, 46368, 75025, 121393, 196418, 317811, 514229, 832040, 1346269, 2178309, 3524578, 5702887, 9227465, 14930352, 24157817, 39088169, 63245986, 102334155, 165580141, 267914296, 433494437, 701408733, 1134903170, 1836311903, 2971215073, 4807526976, 7778742049, 12586269025, 20365011074, 32951280099, 53316291173, 86267571272, 139583862445, 225851433717, 365435296162, 591286729879, 956722026041, 1548008755920, 2504730781961, 4052739537881, 6557470319842, 10610209857723, 17167680177565, 27777890035288, 44945570212853, 72723460248141, 117669030460994, 190392490709135, 308061521170129, 498454011879264, 806515533049393, 1304969544928657, 2111485077978050, 3416454622906707, 5527939700884757, 8944394323791464, 14472334024676221, 23416728348467685, 37889062373143906, 61305790721611591, 99194853094755497, 160500643816367088, 259695496911122585, 420196140727489673, 679891637638612258, 1100087778366101931, 1779979416004714189, 2880067194370816120, 4660046610375530309, 7540113804746346429, 12200160415121876738, 19740274219868223167, 31940434634990099905, 51680708854858323072, 83621143489848422977, 135301852344706746049, 218922995834555169026, 354224848179261915075]\n"
     ]
    }
   ],
   "source": [
    "# 4. 生成斐波那契数列\n",
    "\n",
    "febo = [1,1]\n",
    "n = int(input('要输出多少位数列：'))\n",
    "for i in range(2,n):\n",
    "    #print(i)\n",
    "    sum = febo[i-1] + febo[i-2]\n",
    "    febo.append(sum)\n",
    "    \n",
    "print(febo)"
   ]
  },
  {
   "cell_type": "code",
   "execution_count": 54,
   "metadata": {},
   "outputs": [
    {
     "name": "stdout",
     "output_type": "stream",
     "text": [
      "第一次是： 6\n",
      "平局再一次： 8\n",
      "平局再一次： 4\n",
      "平局再一次： 3\n",
      "平局再一次： 6\n",
      "玩家胜利！\n"
     ]
    }
   ],
   "source": [
    "# 5. Craps赌博游戏\n",
    "\n",
    "from random import randint\n",
    "\n",
    "go_on = False  # 一次之后确定游戏是否继续\n",
    "first = randint(1,6) + randint(1,6)\n",
    "print('第一次是：',first)\n",
    "\n",
    "if(first == 7 or first == 11):\n",
    "    print('玩家胜利！')\n",
    "elif(first == 2 or first == 3 or first == 12):\n",
    "    print('庄家胜利！')\n",
    "else:\n",
    "    go_on = True\n",
    "    \n",
    "while(go_on):  # 如果继续游戏\n",
    "    second = randint(1,6) + randint(1,6)\n",
    "    print('平局再一次：',second)\n",
    "    if(second == 7):\n",
    "        print('庄家胜利！')\n",
    "        go_on = False\n",
    "    elif(first == second):\n",
    "        print('玩家胜利！')\n",
    "        go_on = False\n",
    "    \n",
    "    "
   ]
  },
  {
   "cell_type": "code",
   "execution_count": null,
   "metadata": {
    "collapsed": true
   },
   "outputs": [],
   "source": []
  }
 ],
 "metadata": {
  "kernelspec": {
   "display_name": "Python 3",
   "language": "python",
   "name": "python3"
  },
  "language_info": {
   "codemirror_mode": {
    "name": "ipython",
    "version": 3
   },
   "file_extension": ".py",
   "mimetype": "text/x-python",
   "name": "python",
   "nbconvert_exporter": "python",
   "pygments_lexer": "ipython3",
   "version": "3.6.3"
  }
 },
 "nbformat": 4,
 "nbformat_minor": 2
}
